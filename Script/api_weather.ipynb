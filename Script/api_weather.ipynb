{
 "cells": [
  {
   "cell_type": "code",
   "execution_count": null,
   "metadata": {},
   "outputs": [],
   "source": [
    "import pandas as pd\n",
    "import requests\n",
    "from datetime import datetime\n",
    "from pandas_gbq import to_gbq\n",
    "from google.cloud import bigquery\n",
    "from concurrent.futures import ThreadPoolExecutor\n",
    "import os\n"
   ]
  },
  {
   "cell_type": "code",
   "execution_count": null,
   "metadata": {},
   "outputs": [],
   "source": [
    "os.environ['GOOGLE_APLICATION_CREDENTIALS'] = 'SUAS_CREDENCIAIS'\n",
    "\n",
    "url = \"https://servicodados.ibge.gov.br/api/v1/localidades/municipios\"\n",
    "\n",
    "response = requests.get(url)\n",
    "\n",
    "if response.status_code == 200:\n",
    "    result = response.json()  \n",
    "    \n",
    "    dados_extraidos = []\n",
    "\n",
    "    for municipio in result:\n",
    "            dados_extraidos.append({\n",
    "                'ID': municipio['id'],\n",
    "                'Nome': municipio['nome'],\n",
    "                'Microrregião': municipio['microrregiao']['nome'],\n",
    "                'Mesorregião': municipio['microrregiao']['mesorregiao']['nome'],\n",
    "                'UF': municipio['microrregiao']['mesorregiao']['UF']['sigla'],\n",
    "                'Estado': municipio['microrregiao']['mesorregiao']['UF']['nome'],\n",
    "                'Região': municipio['microrregiao']['mesorregiao']['UF']['regiao']['nome'],\n",
    "                'Região Imediata': municipio['regiao-imediata']['nome'],\n",
    "                'Região Intermediária': municipio['regiao-imediata']['regiao-intermediaria']['nome']\n",
    "            })\n",
    "\n",
    "    df = pd.DataFrame(dados_extraidos)\n",
    "\n",
    "df['Pais'] = 'Brasil'\n",
    "\n",
    "list_muninicipios = df['Nome'].tolist()\n",
    "\n",
    "list_municipios_sp = df[df['Estado'] == 'São Paulo']['Nome'].tolist()"
   ]
  },
  {
   "cell_type": "code",
   "execution_count": null,
   "metadata": {},
   "outputs": [],
   "source": [
    "def obter_clima(cidade):\n",
    "    url = \"https://api.openweathermap.org/data/2.5/weather\"\n",
    "    # Adicione sua chave de API\n",
    "    params = {\"q\": cidade, \"appid\": \"SUA_API_KEY\", \"units\": \"standard\"}\n",
    "    \n",
    "    response = requests.get(url, params=params)\n",
    "\n",
    "    if response.status_code == 200:\n",
    "        clima = response.json()\n",
    "        return {\n",
    "            'nome': clima.get('name', ''),\n",
    "            'temperatura': clima['main'].get('temp'),\n",
    "            'min_temperatura': clima['main'].get('temp_min'),\n",
    "            'max_temperatura': clima['main'].get('temp_max'),\n",
    "            'sensacao_termica': clima['main'].get('feels_like'),\n",
    "            'umidade': clima['main'].get('humidity'),\n",
    "            'velocidade_vento': clima['wind'].get('speed'),\n",
    "            'nascer_do_sol': datetime.utcfromtimestamp(clima['sys'].get('sunrise', 0)).strftime('%Y-%m-%d %H:%M:%S'),\n",
    "            'por_do_sol': datetime.utcfromtimestamp(clima['sys'].get('sunset', 0)).strftime('%Y-%m-%d %H:%M:%S'),\n",
    "            'date': datetime.utcfromtimestamp(clima.get('dt', 0)).strftime('%Y-%m-%d %H:%M:%S')\n",
    "        }\n",
    "    return None  \n",
    "\n",
    "with ThreadPoolExecutor() as executor:\n",
    "    dados_clima = list(executor.map(obter_clima, list_muninicipios))\n",
    "\n",
    "dados_clima = [dado for dado in dados_clima if dado is not None]\n",
    "\n",
    "df_clima = pd.DataFrame(dados_clima)\n"
   ]
  },
  {
   "cell_type": "code",
   "execution_count": null,
   "metadata": {},
   "outputs": [
    {
     "name": "stderr",
     "output_type": "stream",
     "text": [
      "100%|██████████| 1/1 [00:00<?, ?it/s]\n"
     ]
    }
   ],
   "source": [
    "projeto_id = \"SEU_PROJETO\"\n",
    "dataset_id = \"SEU_DATASET\"\n",
    "tabela_id = \"DimBrazilIbge\"\n",
    "\n",
    "\n",
    "tabela_destino = f\"{dataset_id}.{tabela_id}\"\n",
    "to_gbq(df, tabela_destino, project_id=projeto_id, if_exists='replace')\n"
   ]
  },
  {
   "cell_type": "code",
   "execution_count": null,
   "metadata": {},
   "outputs": [
    {
     "name": "stderr",
     "output_type": "stream",
     "text": [
      "100%|██████████| 1/1 [00:00<00:00, 661.98it/s]\n"
     ]
    }
   ],
   "source": [
    "projeto_id = \"SEU_PROJETO\"\n",
    "dataset_id = \"SEU_DATASET\"\n",
    "tabela_id = \"FactBrazilTemp\"\n",
    "\n",
    "\n",
    "tabela_destino = f\"{dataset_id}.{tabela_id}\"\n",
    "to_gbq(df_clima, tabela_destino, project_id=projeto_id, if_exists='replace')"
   ]
  }
 ],
 "metadata": {
  "language_info": {
   "name": "python"
  }
 },
 "nbformat": 4,
 "nbformat_minor": 2
}
